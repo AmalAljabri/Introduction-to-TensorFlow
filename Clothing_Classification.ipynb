{
  "nbformat": 4,
  "nbformat_minor": 0,
  "metadata": {
    "colab": {
      "name": "Clothing Classification",
      "provenance": []
    },
    "kernelspec": {
      "name": "python3",
      "display_name": "Python 3"
    }
  },
  "cells": [
    {
      "cell_type": "code",
      "metadata": {
        "id": "ZoNn4vJhowoW",
        "colab_type": "code",
        "colab": {}
      },
      "source": [
        "import tensorflow as tf\n",
        "import numpy as np\n",
        "from tensorflow import keras"
      ],
      "execution_count": 2,
      "outputs": []
    },
    {
      "cell_type": "code",
      "metadata": {
        "id": "TZn6t6HTrkOW",
        "colab_type": "code",
        "colab": {
          "base_uri": "https://localhost:8080/",
          "height": 151
        },
        "outputId": "19201f2a-efbf-4e9a-e08b-26950f12c851"
      },
      "source": [
        "fashion_mnist = keras.datasets.fashion_mnist\n",
        "\n",
        "(x_train, y_train),(x_test, y_test) = fashion_mnist.load_data()\n",
        "\n",
        "x_train, x_test = x_train / 255.0, x_test / 255.0"
      ],
      "execution_count": 3,
      "outputs": [
        {
          "output_type": "stream",
          "text": [
            "Downloading data from https://storage.googleapis.com/tensorflow/tf-keras-datasets/train-labels-idx1-ubyte.gz\n",
            "32768/29515 [=================================] - 0s 0us/step\n",
            "Downloading data from https://storage.googleapis.com/tensorflow/tf-keras-datasets/train-images-idx3-ubyte.gz\n",
            "26427392/26421880 [==============================] - 0s 0us/step\n",
            "Downloading data from https://storage.googleapis.com/tensorflow/tf-keras-datasets/t10k-labels-idx1-ubyte.gz\n",
            "8192/5148 [===============================================] - 0s 0us/step\n",
            "Downloading data from https://storage.googleapis.com/tensorflow/tf-keras-datasets/t10k-images-idx3-ubyte.gz\n",
            "4423680/4422102 [==============================] - 0s 0us/step\n"
          ],
          "name": "stdout"
        }
      ]
    },
    {
      "cell_type": "code",
      "metadata": {
        "id": "NFj3hOFFthZZ",
        "colab_type": "code",
        "colab": {
          "base_uri": "https://localhost:8080/",
          "height": 252
        },
        "outputId": "dc8afe6b-75c6-4042-8de1-7bb33d89c7a7"
      },
      "source": [
        "model = keras.Sequential([\n",
        "    keras.layers.Flatten(input_shape=(28, 28)),\n",
        "    keras.layers.Dense(1024, activation='relu'),\n",
        "    keras.layers.Dense(10)\n",
        "])\n",
        "\n",
        "model.summary()"
      ],
      "execution_count": 4,
      "outputs": [
        {
          "output_type": "stream",
          "text": [
            "Model: \"sequential\"\n",
            "_________________________________________________________________\n",
            "Layer (type)                 Output Shape              Param #   \n",
            "=================================================================\n",
            "flatten (Flatten)            (None, 784)               0         \n",
            "_________________________________________________________________\n",
            "dense (Dense)                (None, 1024)              803840    \n",
            "_________________________________________________________________\n",
            "dense_1 (Dense)              (None, 10)                10250     \n",
            "=================================================================\n",
            "Total params: 814,090\n",
            "Trainable params: 814,090\n",
            "Non-trainable params: 0\n",
            "_________________________________________________________________\n"
          ],
          "name": "stdout"
        }
      ]
    },
    {
      "cell_type": "code",
      "metadata": {
        "id": "fOb-eNBdtzdC",
        "colab_type": "code",
        "colab": {}
      },
      "source": [
        "model.compile(optimizer='adam', loss=tf.keras.losses.SparseCategoricalCrossentropy(from_logits=True),metrics=['accuracy'])"
      ],
      "execution_count": 5,
      "outputs": []
    },
    {
      "cell_type": "code",
      "metadata": {
        "id": "EH841TsPt7os",
        "colab_type": "code",
        "colab": {
          "base_uri": "https://localhost:8080/",
          "height": 538
        },
        "outputId": "e73700da-440e-4528-c1c6-2b3ab9d2c40c"
      },
      "source": [
        "model.fit(x_train, y_train, epochs=15)"
      ],
      "execution_count": 7,
      "outputs": [
        {
          "output_type": "stream",
          "text": [
            "Epoch 1/15\n",
            "1875/1875 [==============================] - 12s 7ms/step - loss: 0.4353 - accuracy: 0.8434\n",
            "Epoch 2/15\n",
            "1875/1875 [==============================] - 12s 7ms/step - loss: 0.3553 - accuracy: 0.8699\n",
            "Epoch 3/15\n",
            "1875/1875 [==============================] - 12s 7ms/step - loss: 0.3174 - accuracy: 0.8820\n",
            "Epoch 4/15\n",
            "1875/1875 [==============================] - 12s 7ms/step - loss: 0.2945 - accuracy: 0.8905\n",
            "Epoch 5/15\n",
            "1875/1875 [==============================] - 13s 7ms/step - loss: 0.2779 - accuracy: 0.8964\n",
            "Epoch 6/15\n",
            "1875/1875 [==============================] - 13s 7ms/step - loss: 0.2630 - accuracy: 0.9014\n",
            "Epoch 7/15\n",
            "1875/1875 [==============================] - 13s 7ms/step - loss: 0.2507 - accuracy: 0.9049\n",
            "Epoch 8/15\n",
            "1875/1875 [==============================] - 13s 7ms/step - loss: 0.2396 - accuracy: 0.9099\n",
            "Epoch 9/15\n",
            "1875/1875 [==============================] - 12s 7ms/step - loss: 0.2294 - accuracy: 0.9130\n",
            "Epoch 10/15\n",
            "1875/1875 [==============================] - 12s 7ms/step - loss: 0.2199 - accuracy: 0.9178\n",
            "Epoch 11/15\n",
            "1875/1875 [==============================] - 12s 7ms/step - loss: 0.2096 - accuracy: 0.9216\n",
            "Epoch 12/15\n",
            "1875/1875 [==============================] - 12s 6ms/step - loss: 0.2036 - accuracy: 0.9229\n",
            "Epoch 13/15\n",
            "1875/1875 [==============================] - 12s 7ms/step - loss: 0.1950 - accuracy: 0.9268\n",
            "Epoch 14/15\n",
            "1875/1875 [==============================] - 12s 7ms/step - loss: 0.1896 - accuracy: 0.9278\n",
            "Epoch 15/15\n",
            "1875/1875 [==============================] - 12s 6ms/step - loss: 0.1801 - accuracy: 0.9320\n"
          ],
          "name": "stdout"
        },
        {
          "output_type": "execute_result",
          "data": {
            "text/plain": [
              "<tensorflow.python.keras.callbacks.History at 0x7f45736e7ac8>"
            ]
          },
          "metadata": {
            "tags": []
          },
          "execution_count": 7
        }
      ]
    },
    {
      "cell_type": "code",
      "metadata": {
        "id": "TdD9bVXuvA_Y",
        "colab_type": "code",
        "colab": {
          "base_uri": "https://localhost:8080/",
          "height": 67
        },
        "outputId": "ba88dbce-b891-45ee-d963-aeec4a42c406"
      },
      "source": [
        "score = model.evaluate(x_test, y_test)\n",
        "\n",
        "print(\"Test Loss:\",  \"{:.2f}\".format(score[0]*100))\n",
        "print(\"Test Accuracy:\",  \"{:.2f}\".format(score[1]*100))"
      ],
      "execution_count": 8,
      "outputs": [
        {
          "output_type": "stream",
          "text": [
            "313/313 [==============================] - 1s 3ms/step - loss: 0.3513 - accuracy: 0.8925\n",
            "Test Loss: 35.13\n",
            "Test Accuracy: 89.25\n"
          ],
          "name": "stdout"
        }
      ]
    },
    {
      "cell_type": "code",
      "metadata": {
        "id": "nJEW3DfnXTXz",
        "colab_type": "code",
        "colab": {
          "base_uri": "https://localhost:8080/",
          "height": 282
        },
        "outputId": "98720e79-75ee-4ce1-8250-11936c43a491"
      },
      "source": [
        "class_names = ['T-shirt/top', 'Trouser', 'Pullover', 'Dress', 'Coat',\n",
        "               'Sandal', 'Shirt', 'Sneaker', 'Bag', 'Ankle boot']\n",
        "\n",
        "import matplotlib.pyplot as plt\n",
        "predictions = model.predict(x_test)\n",
        "idx = 5478\n",
        "plt.imshow(x_test[idx])\n",
        "plt.show()\n",
        "print(class_names[np.argmax(predictions[idx])])"
      ],
      "execution_count": 11,
      "outputs": [
        {
          "output_type": "display_data",
          "data": {
            "image/png": "[encoded data removed]",
            "text/plain": [
              "<Figure size 432x288 with 1 Axes>"
            ]
          },
          "metadata": {
            "tags": [],
            "needs_background": "light"
          }
        },
        {
          "output_type": "stream",
          "text": [
            "Sandal\n"
          ],
          "name": "stdout"
        }
      ]
    },
    {
      "cell_type": "code",
      "metadata": {
        "id": "IrqMpzexYwpf",
        "colab_type": "code",
        "colab": {
          "base_uri": "https://localhost:8080/",
          "height": 282
        },
        "outputId": "1d4798ed-35f5-4d44-ac39-e62e6d4602cf"
      },
      "source": [
        "predictions = model.predict(x_test)\n",
        "idx = 5878\n",
        "plt.imshow(x_test[idx])\n",
        "plt.show()\n",
        "print(class_names[np.argmax(predictions[idx])])"
      ],
      "execution_count": 12,
      "outputs": [
        {
          "output_type": "display_data",
          "data": {
            "image/png": "[encoded data removed]",
            "text/plain": [
              "<Figure size 432x288 with 1 Axes>"
            ]
          },
          "metadata": {
            "tags": [],
            "needs_background": "light"
          }
        },
        {
          "output_type": "stream",
          "text": [
            "Bag\n"
          ],
          "name": "stdout"
        }
      ]
    }
  ]
}