{
  "nbformat": 4,
  "nbformat_minor": 0,
  "metadata": {
    "colab": {
      "name": "Happy or Sad Classification",
      "provenance": [],
      "collapsed_sections": []
    },
    "kernelspec": {
      "name": "python3",
      "display_name": "Python 3"
    }
  },
  "cells": [
    {
      "cell_type": "code",
      "metadata": {
        "id": "7Ak19I97Szmp",
        "colab_type": "code",
        "colab": {}
      },
      "source": [
        "import tensorflow as tf\n",
        "import os\n",
        "import zipfile\n",
        "from tensorflow.keras.optimizers import RMSprop\n",
        "from tensorflow.keras.preprocessing.image import ImageDataGenerator"
      ],
      "execution_count": 9,
      "outputs": []
    },
    {
      "cell_type": "code",
      "metadata": {
        "id": "i7uS8w4YTUZs",
        "colab_type": "code",
        "colab": {
          "base_uri": "https://localhost:8080/",
          "height": 202
        },
        "outputId": "9ed9133d-6c1f-400f-ea85-fa7d4efd27b3"
      },
      "source": [
        "!wget --no-check-certificate \\\n",
        "    \"https://storage.googleapis.com/laurencemoroney-blog.appspot.com/happy-or-sad.zip\" \\\n",
        "    -O \"/tmp/happy-or-sad.zip\"\n",
        "\n",
        "zip_ref = zipfile.ZipFile(\"/tmp/happy-or-sad.zip\", 'r')\n",
        "zip_ref.extractall(\"/tmp/h-or-s\")\n",
        "zip_ref.close()"
      ],
      "execution_count": 2,
      "outputs": [
        {
          "output_type": "stream",
          "text": [
            "--2020-09-02 05:32:25--  https://storage.googleapis.com/laurencemoroney-blog.appspot.com/happy-or-sad.zip\n",
            "Resolving storage.googleapis.com (storage.googleapis.com)... 142.250.99.128, 74.125.20.128, 74.125.197.128, ...\n",
            "Connecting to storage.googleapis.com (storage.googleapis.com)|142.250.99.128|:443... connected.\n",
            "HTTP request sent, awaiting response... 200 OK\n",
            "Length: 2670333 (2.5M) [application/zip]\n",
            "Saving to: ‘/tmp/happy-or-sad.zip’\n",
            "\n",
            "\r/tmp/happy-or-sad.z   0%[                    ]       0  --.-KB/s               \r/tmp/happy-or-sad.z 100%[===================>]   2.55M  --.-KB/s    in 0.01s   \n",
            "\n",
            "2020-09-02 05:32:25 (194 MB/s) - ‘/tmp/happy-or-sad.zip’ saved [2670333/2670333]\n",
            "\n"
          ],
          "name": "stdout"
        }
      ]
    },
    {
      "cell_type": "code",
      "metadata": {
        "id": "O81BMlSDTNYY",
        "colab_type": "code",
        "colab": {}
      },
      "source": [
        "class myCallback(tf.keras.callbacks.Callback):\n",
        "  def on_epoch_end(self, epoch, logs={}):\n",
        "    if (logs.get('acc') > 0.999):\n",
        "      print('\\nDesired Accuracy is met, Stopping training...')\n",
        "      self.model.stop_training = True\n",
        "\n",
        "callbacks = myCallback()"
      ],
      "execution_count": 4,
      "outputs": []
    },
    {
      "cell_type": "code",
      "metadata": {
        "id": "62ekqIHgTTux",
        "colab_type": "code",
        "colab": {
          "base_uri": "https://localhost:8080/",
          "height": 454
        },
        "outputId": "fd738ced-592c-4a93-9bd4-5e716f62d27c"
      },
      "source": [
        "model = tf.keras.models.Sequential([\n",
        "    tf.keras.layers.Conv2D(64, (3,3), activation='relu', input_shape=(150, 150, 3)),\n",
        "    tf.keras.layers.MaxPooling2D(2, 2),\n",
        "    tf.keras.layers.Conv2D(64, (3,3), activation='relu'),\n",
        "    tf.keras.layers.MaxPooling2D(2, 2),\n",
        "    tf.keras.layers.Conv2D(64, (3,3), activation='relu'),\n",
        "    tf.keras.layers.MaxPooling2D(2, 2),\n",
        "    tf.keras.layers.Flatten(),\n",
        "    tf.keras.layers.Dense(128, activation='relu'),\n",
        "    tf.keras.layers.Dense(1, activation='sigmoid')\n",
        "])\n",
        "\n",
        "model.summary()\n",
        "\n",
        "model.compile(loss='binary_crossentropy', optimizer='adam', metrics=['acc'])"
      ],
      "execution_count": 5,
      "outputs": [
        {
          "output_type": "stream",
          "text": [
            "Model: \"sequential\"\n",
            "_________________________________________________________________\n",
            "Layer (type)                 Output Shape              Param #   \n",
            "=================================================================\n",
            "conv2d (Conv2D)              (None, 148, 148, 64)      1792      \n",
            "_________________________________________________________________\n",
            "max_pooling2d (MaxPooling2D) (None, 74, 74, 64)        0         \n",
            "_________________________________________________________________\n",
            "conv2d_1 (Conv2D)            (None, 72, 72, 64)        36928     \n",
            "_________________________________________________________________\n",
            "max_pooling2d_1 (MaxPooling2 (None, 36, 36, 64)        0         \n",
            "_________________________________________________________________\n",
            "conv2d_2 (Conv2D)            (None, 34, 34, 64)        36928     \n",
            "_________________________________________________________________\n",
            "max_pooling2d_2 (MaxPooling2 (None, 17, 17, 64)        0         \n",
            "_________________________________________________________________\n",
            "flatten (Flatten)            (None, 18496)             0         \n",
            "_________________________________________________________________\n",
            "dense (Dense)                (None, 128)               2367616   \n",
            "_________________________________________________________________\n",
            "dense_1 (Dense)              (None, 1)                 129       \n",
            "=================================================================\n",
            "Total params: 2,443,393\n",
            "Trainable params: 2,443,393\n",
            "Non-trainable params: 0\n",
            "_________________________________________________________________\n"
          ],
          "name": "stdout"
        }
      ]
    },
    {
      "cell_type": "code",
      "metadata": {
        "id": "yoARpJ8XTl3i",
        "colab_type": "code",
        "colab": {
          "base_uri": "https://localhost:8080/",
          "height": 34
        },
        "outputId": "d99ad613-344f-4ef5-883d-a778ba1a4947"
      },
      "source": [
        "train_datagen = ImageDataGenerator(rescale=1/255.0)\n",
        "\n",
        "train_generator = train_datagen.flow_from_directory('/tmp/h-or-s/', target_size=(150,150), batch_size=80, class_mode='binary')"
      ],
      "execution_count": 6,
      "outputs": [
        {
          "output_type": "stream",
          "text": [
            "Found 80 images belonging to 2 classes.\n"
          ],
          "name": "stdout"
        }
      ]
    },
    {
      "cell_type": "code",
      "metadata": {
        "id": "ibqtiK3pTuyQ",
        "colab_type": "code",
        "colab": {
          "base_uri": "https://localhost:8080/",
          "height": 823
        },
        "outputId": "dc14cb8c-b456-4df0-c966-407d03c4fcb2"
      },
      "source": [
        "model.fit_generator(train_generator, steps_per_epoch=1, epochs=30, verbose=1, callbacks=[callbacks])"
      ],
      "execution_count": 7,
      "outputs": [
        {
          "output_type": "stream",
          "text": [
            "WARNING:tensorflow:From <ipython-input-7-2c12a185ca3b>:1: Model.fit_generator (from tensorflow.python.keras.engine.training) is deprecated and will be removed in a future version.\n",
            "Instructions for updating:\n",
            "Please use Model.fit, which supports generators.\n",
            "Epoch 1/30\n",
            "1/1 [==============================] - 0s 2ms/step - loss: 0.6935 - acc: 0.5000\n",
            "Epoch 2/30\n",
            "1/1 [==============================] - 0s 1ms/step - loss: 0.8499 - acc: 0.5000\n",
            "Epoch 3/30\n",
            "1/1 [==============================] - 0s 1ms/step - loss: 0.6882 - acc: 0.5000\n",
            "Epoch 4/30\n",
            "1/1 [==============================] - 0s 1ms/step - loss: 0.6724 - acc: 0.5000\n",
            "Epoch 5/30\n",
            "1/1 [==============================] - 0s 2ms/step - loss: 0.6778 - acc: 0.5000\n",
            "Epoch 6/30\n",
            "1/1 [==============================] - 0s 1ms/step - loss: 0.5790 - acc: 0.5000\n",
            "Epoch 7/30\n",
            "1/1 [==============================] - 0s 1ms/step - loss: 0.5413 - acc: 0.7500\n",
            "Epoch 8/30\n",
            "1/1 [==============================] - 0s 2ms/step - loss: 0.4657 - acc: 0.7500\n",
            "Epoch 9/30\n",
            "1/1 [==============================] - 0s 2ms/step - loss: 0.4019 - acc: 0.7500\n",
            "Epoch 10/30\n",
            "1/1 [==============================] - 0s 2ms/step - loss: 0.3059 - acc: 0.9500\n",
            "Epoch 11/30\n",
            "1/1 [==============================] - 0s 1ms/step - loss: 0.2490 - acc: 0.9250\n",
            "Epoch 12/30\n",
            "1/1 [==============================] - 0s 1ms/step - loss: 0.1786 - acc: 0.9375\n",
            "Epoch 13/30\n",
            "1/1 [==============================] - 0s 1ms/step - loss: 0.1917 - acc: 0.9125\n",
            "Epoch 14/30\n",
            "1/1 [==============================] - 0s 1ms/step - loss: 0.2241 - acc: 0.9250\n",
            "Epoch 15/30\n",
            "1/1 [==============================] - 0s 1ms/step - loss: 0.1588 - acc: 0.9375\n",
            "Epoch 16/30\n",
            "1/1 [==============================] - 0s 1ms/step - loss: 0.2118 - acc: 0.9000\n",
            "Epoch 17/30\n",
            "1/1 [==============================] - 0s 1ms/step - loss: 0.1143 - acc: 0.9500\n",
            "Epoch 18/30\n",
            "1/1 [==============================] - 0s 1ms/step - loss: 0.1508 - acc: 0.9375\n",
            "Epoch 19/30\n",
            "1/1 [==============================] - 0s 1ms/step - loss: 0.1201 - acc: 0.9500\n",
            "Epoch 20/30\n",
            "1/1 [==============================] - 0s 1ms/step - loss: 0.0987 - acc: 0.9625\n",
            "Epoch 21/30\n",
            "1/1 [==============================] - ETA: 0s - loss: 0.1179 - acc: 1.0000\n",
            "Desired Accuracy is met, Stopping training...\n",
            "1/1 [==============================] - 0s 2ms/step - loss: 0.1179 - acc: 1.0000\n"
          ],
          "name": "stdout"
        },
        {
          "output_type": "execute_result",
          "data": {
            "text/plain": [
              "<tensorflow.python.keras.callbacks.History at 0x7fd15eaffe10>"
            ]
          },
          "metadata": {
            "tags": []
          },
          "execution_count": 7
        }
      ]
    }
  ]
}